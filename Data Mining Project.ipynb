{
 "cells": [
  {
   "cell_type": "code",
   "execution_count": 210,
   "metadata": {},
   "outputs": [],
   "source": [
    "import pandas as pd\n",
    "import numpy as np\n",
    "from itertools import combinations, chain\n",
    "from prettytable import PrettyTable"
   ]
  },
  {
   "cell_type": "code",
   "execution_count": 211,
   "metadata": {},
   "outputs": [
    {
     "name": "stdout",
     "output_type": "stream",
     "text": [
      "Please Enter Support in %: 30\n",
      "Please Enter Confidence in %: 30\n"
     ]
    }
   ],
   "source": [
    "min_support = int(input(\"Please Enter Support in %: \"))\n",
    "min_confidence = int(input(\"Please Enter Confidence in %: \"))"
   ]
  },
  {
   "cell_type": "code",
   "execution_count": 212,
   "metadata": {},
   "outputs": [
    {
     "name": "stdout",
     "output_type": "stream",
     "text": [
      "1 Amazon\n",
      "2 Best Buy\n",
      "3 Nike\n",
      "4 K-mart\n",
      "5 Generic\n",
      "What Database do you want to select?[1-5] 5\n",
      "Generic is selected.\n"
     ]
    }
   ],
   "source": [
    "menubar = {}\n",
    "menubar[\"1\"] = \"Amazon\"\n",
    "menubar[\"2\"] = \"Best Buy\"\n",
    "menubar[\"3\"] = \"Nike\"\n",
    "menubar[\"4\"] = \"K-mart\"\n",
    "menubar[\"5\"] = \"Generic\"\n",
    " \n",
    "options=menubar.keys()\n",
    "while True:  \n",
    "    for entry in options: \n",
    "        print(entry, menubar[entry])\n",
    "    selected_opt=input(\"What Database do you want to select?[1-5] \") \n",
    "    if selected_opt==\"1\": \n",
    "        dataset=\"Amazon_Item_Names.xlsx\" \n",
    "        transactions=\"Amazon_Datasets.xlsx\"\n",
    "        print(\"Amazon is selected.\")\n",
    "        break\n",
    "    elif selected_opt==\"2\":\n",
    "        dataset=\"Bestbuy_item_names.xlsx\" \n",
    "        transactions=\"Bestbuy_datasets.xlsx\"\n",
    "        print(\"Best Buy is selected.\")\n",
    "        break\n",
    "    elif selected_opt==\"3\":\n",
    "        dataset=\"Nike_item_names.xlsx\" \n",
    "        transactions=\"Nike_datasets.xlsx\"\n",
    "        print(\"Nike is selected.\")\n",
    "        break\n",
    "    elif selected_opt==\"4\":\n",
    "        dataset=\"Kmart_item_names.xlsx\" \n",
    "        transactions=\"Kmart_datasets.xlsx\"\n",
    "        print(\"K-mart is selected.\")\n",
    "        break\n",
    "    elif selected_opt==\"5\":\n",
    "        dataset=\"Generic_item_names.xlsx\" \n",
    "        transactions=\"Generic_datasets.xlsx\"\n",
    "        print(\"Generic is selected.\")\n",
    "        break\n",
    "    \n",
    "    elif selected_opt !=\"\":\n",
    "      selected_opt = input(\"\\n Not Valid Choice Try again\")"
   ]
  },
  {
   "cell_type": "code",
   "execution_count": 213,
   "metadata": {},
   "outputs": [
    {
     "name": "stdout",
     "output_type": "stream",
     "text": [
      "['A', 'B', 'C', 'D', 'E', 'F', 'G', 'H', 'I', 'J']\n"
     ]
    }
   ],
   "source": [
    "items_list = pd.read_excel(dataset,names=[\"item#\", \"items\"]) \n",
    "items=[] \n",
    "for item in items_list[\"items\"]:\n",
    "    items.append(item)  \n",
    "print(items)"
   ]
  },
  {
   "cell_type": "code",
   "execution_count": 214,
   "metadata": {},
   "outputs": [
    {
     "data": {
      "text/html": [
       "<div>\n",
       "<style scoped>\n",
       "    .dataframe tbody tr th:only-of-type {\n",
       "        vertical-align: middle;\n",
       "    }\n",
       "\n",
       "    .dataframe tbody tr th {\n",
       "        vertical-align: top;\n",
       "    }\n",
       "\n",
       "    .dataframe thead th {\n",
       "        text-align: right;\n",
       "    }\n",
       "</style>\n",
       "<table border=\"1\" class=\"dataframe\">\n",
       "  <thead>\n",
       "    <tr style=\"text-align: right;\">\n",
       "      <th></th>\n",
       "      <th>Transaction ID</th>\n",
       "      <th>Transaction</th>\n",
       "    </tr>\n",
       "  </thead>\n",
       "  <tbody>\n",
       "    <tr>\n",
       "      <td>0</td>\n",
       "      <td>Trans1</td>\n",
       "      <td>A, B, C</td>\n",
       "    </tr>\n",
       "    <tr>\n",
       "      <td>1</td>\n",
       "      <td>Trans2</td>\n",
       "      <td>A, B, C</td>\n",
       "    </tr>\n",
       "    <tr>\n",
       "      <td>2</td>\n",
       "      <td>Trans3</td>\n",
       "      <td>A, B, C, D</td>\n",
       "    </tr>\n",
       "    <tr>\n",
       "      <td>3</td>\n",
       "      <td>Trans4</td>\n",
       "      <td>A, B, C, D, E</td>\n",
       "    </tr>\n",
       "    <tr>\n",
       "      <td>4</td>\n",
       "      <td>Trans5</td>\n",
       "      <td>A, B, D, E</td>\n",
       "    </tr>\n",
       "  </tbody>\n",
       "</table>\n",
       "</div>"
      ],
      "text/plain": [
       "  Transaction ID    Transaction\n",
       "0         Trans1        A, B, C\n",
       "1         Trans2        A, B, C\n",
       "2         Trans3     A, B, C, D\n",
       "3         Trans4  A, B, C, D, E\n",
       "4         Trans5     A, B, D, E"
      ]
     },
     "execution_count": 214,
     "metadata": {},
     "output_type": "execute_result"
    }
   ],
   "source": [
    "transaction_list = pd.read_excel(transactions,names=[\"Transaction ID\",\"Transaction\"])\n",
    "transaction_list.head()"
   ]
  },
  {
   "cell_type": "code",
   "execution_count": 215,
   "metadata": {},
   "outputs": [
    {
     "name": "stdout",
     "output_type": "stream",
     "text": [
      "[['A', 'B', 'C'], ['A', 'B', 'C'], ['A', 'B', 'C', 'D'], ['A', 'B', 'C', 'D', 'E'], ['A', 'B', 'D', 'E'], ['A', 'D', 'E'], ['A', 'E'], ['A', 'E'], ['A', 'C', 'E'], ['A', 'C', 'E'], ['A', 'C', 'E'], ['B,D,F,G'], ['H,I,J'], ['A,D,E,H,J'], ['B,C,E,F'], ['A,D,F'], ['B,D,J'], ['A,B,C,J'], ['B,D,E,G'], ['A,C,E,H,J']]\n"
     ]
    }
   ],
   "source": [
    "records=[]\n",
    "for  trans in transaction_list[\"Transaction\"]:\n",
    "    transactions =  trans.split(\", \")\n",
    "    records.append(transactions)\n",
    "print((records))"
   ]
  },
  {
   "cell_type": "code",
   "execution_count": 216,
   "metadata": {},
   "outputs": [],
   "source": [
    "C={} \n",
    "L = {} \n",
    "itemset_size=1 \n",
    "Discarded= {itemset_size: []} \n",
    "C.update({itemset_size: [ [f] for f in items]})"
   ]
  },
  {
   "cell_type": "code",
   "execution_count": 217,
   "metadata": {},
   "outputs": [],
   "source": [
    "def count_occurances(itemset,records):\n",
    "    count = 0\n",
    "    for i in range(len(records)):\n",
    "        if set(itemset).issubset(set(records[i])):  \n",
    "                                                   \n",
    "            count+=1\n",
    "          \n",
    "    return count"
   ]
  },
  {
   "cell_type": "code",
   "execution_count": 218,
   "metadata": {},
   "outputs": [],
   "source": [
    "def join_two_itemsets(it1,it2,items):\n",
    "    it1.sort(key=lambda x: items.index(x)) \n",
    "    it2.sort(key=lambda x: items.index(x))\n",
    "    for i in range(len(it1)-1):\n",
    "        if it1[i] != it2[i]:  \n",
    "            return []\n",
    "    if items.index(it1[-1])< items.index(it2[-1]): \n",
    "        return it1 + [it2[-1]]\n",
    "    return []"
   ]
  },
  {
   "cell_type": "code",
   "execution_count": 219,
   "metadata": {},
   "outputs": [],
   "source": [
    "def join_set_itemsets(set_of_itemsets,items):\n",
    "    C=[]\n",
    "    for i in range(len(set_of_itemsets)):\n",
    "        for j in range(i+1,len(set_of_itemsets)):\n",
    "            it_out= join_two_itemsets(set_of_itemsets[i],set_of_itemsets[j],items)\n",
    "            if len(it_out) >0 :\n",
    "                C.append(it_out)\n",
    "            \n",
    "    return C"
   ]
  },
  {
   "cell_type": "code",
   "execution_count": 220,
   "metadata": {},
   "outputs": [],
   "source": [
    "def get_frequent_items(itemsets,records, min_support, prev_non_frequent_items):\n",
    "    L = [] \n",
    "    supp_count = []\n",
    "    new_non_frequent_items =[] \n",
    "    k= len(prev_non_frequent_items.keys())\n",
    "    for i in range(len(itemsets)):\n",
    "        non_frequent_items_before = False\n",
    "        if k>0:\n",
    "            for  item in prev_non_frequent_items[k]:\n",
    "                if set(item).issubset(set(itemsets[i])):\n",
    "                    non_frequent_items_before = True\n",
    "                    break\n",
    "        if not non_frequent_items_before:\n",
    "            count = count_occurances(itemsets[i], records)\n",
    "            if (100*(count/20)) >= min_support:\n",
    "                L.append(itemsets[i])\n",
    "                supp_count.append(count)\n",
    "        else:\n",
    "            new_discarded.append(itemsets[i])\n",
    "   \n",
    "    return L, supp_count, new_non_frequent_items"
   ]
  },
  {
   "cell_type": "code",
   "execution_count": 221,
   "metadata": {},
   "outputs": [],
   "source": [
    "def print_table(list_of_itemsets,supp_count):\n",
    "    t = PrettyTable(['Itemset', 'Frequency', 'Support (%)'])\n",
    "    for k in range(len(list_of_itemsets)):\n",
    "        t.add_row([list_of_itemsets[k] , supp_count[k], round(((supp_count[k]/20)*100),2)])\n",
    "    print(t)"
   ]
  },
  {
   "cell_type": "code",
   "execution_count": 222,
   "metadata": {},
   "outputs": [],
   "source": [
    "def create_set_combinations(s):\n",
    "    return list(chain.from_iterable(combinations(s,r) for r in range(1, len(s)+1)))"
   ]
  },
  {
   "cell_type": "code",
   "execution_count": 223,
   "metadata": {},
   "outputs": [],
   "source": [
    "def generate_rules(X,X_S,S,conf,supp_x):\n",
    "    rule = \"\"\n",
    "    rule += \"Freq. Itemset: {}\\n\".format(X)\n",
    "    rule += \"      Rule: {} -> {} \\n\".format(list(S),list(X_S))\n",
    "    rule += \"      Confidence: {}% \".format(conf)\n",
    "    rule += \"      Support: {}% \\n\\n\".format(supp_x)\n",
    "    rule+= \"----------------------------------------------------------------------------------------------------------\\n\"\n",
    "    return rule"
   ]
  },
  {
   "cell_type": "code",
   "execution_count": 224,
   "metadata": {},
   "outputs": [
    {
     "name": "stdout",
     "output_type": "stream",
     "text": [
      "{1: [['A'], ['C'], ['E']]}\n",
      "{1: [11, 7, 8]}\n"
     ]
    }
   ],
   "source": [
    "support_count_L ={} \n",
    "freq_items, sup, new_non_frequent_items = get_frequent_items(C[itemset_size], records, min_support, Discarded)\n",
    "Discarded.update({itemset_size:new_non_frequent_items}) \n",
    "L.update({itemset_size:freq_items})\n",
    "support_count_L.update({itemset_size:sup})\n",
    "print(L)\n",
    "print(support_count_L)"
   ]
  },
  {
   "cell_type": "code",
   "execution_count": 225,
   "metadata": {},
   "outputs": [
    {
     "name": "stdout",
     "output_type": "stream",
     "text": [
      "Table C1: \n",
      "+---------+-----------+-------------+\n",
      "| Itemset | Frequency | Support (%) |\n",
      "+---------+-----------+-------------+\n",
      "|  ['A']  |     11    |     55.0    |\n",
      "|  ['B']  |     5     |     25.0    |\n",
      "|  ['C']  |     7     |     35.0    |\n",
      "|  ['D']  |     4     |     20.0    |\n",
      "|  ['E']  |     8     |     40.0    |\n",
      "|  ['F']  |     0     |     0.0     |\n",
      "|  ['G']  |     0     |     0.0     |\n",
      "|  ['H']  |     0     |     0.0     |\n",
      "|  ['I']  |     0     |     0.0     |\n",
      "|  ['J']  |     0     |     0.0     |\n",
      "+---------+-----------+-------------+\n",
      "Table L1 : \n",
      "+---------+-----------+-------------+\n",
      "| Itemset | Frequency | Support (%) |\n",
      "+---------+-----------+-------------+\n",
      "|  ['A']  |     11    |     55.0    |\n",
      "|  ['C']  |     7     |     35.0    |\n",
      "|  ['E']  |     8     |     40.0    |\n",
      "+---------+-----------+-------------+\n"
     ]
    }
   ],
   "source": [
    "print(\"Table C1: \")\n",
    "print_table(C[1],[count_occurances(it,records) for it in C[1]]) \n",
    "print(\"Table L1 : \")\n",
    "print_table(L[1],support_count_L[1]) "
   ]
  },
  {
   "cell_type": "code",
   "execution_count": 226,
   "metadata": {
    "scrolled": false
   },
   "outputs": [
    {
     "name": "stdout",
     "output_type": "stream",
     "text": [
      "Table C2\n",
      "+------------+-----------+-------------+\n",
      "|  Itemset   | Frequency | Support (%) |\n",
      "+------------+-----------+-------------+\n",
      "| ['A', 'C'] |     7     |     35.0    |\n",
      "| ['A', 'E'] |     8     |     40.0    |\n",
      "| ['C', 'E'] |     4     |     20.0    |\n",
      "+------------+-----------+-------------+\n",
      "Table L2\n",
      "+------------+-----------+-------------+\n",
      "|  Itemset   | Frequency | Support (%) |\n",
      "+------------+-----------+-------------+\n",
      "| ['A', 'C'] |     7     |     35.0    |\n",
      "| ['A', 'E'] |     8     |     40.0    |\n",
      "+------------+-----------+-------------+\n",
      "Table C3\n",
      "+-----------------+-----------+-------------+\n",
      "|     Itemset     | Frequency | Support (%) |\n",
      "+-----------------+-----------+-------------+\n",
      "| ['A', 'C', 'E'] |     4     |     20.0    |\n",
      "+-----------------+-----------+-------------+\n",
      "Table L3\n",
      "+---------+-----------+-------------+\n",
      "| Itemset | Frequency | Support (%) |\n",
      "+---------+-----------+-------------+\n",
      "+---------+-----------+-------------+\n"
     ]
    }
   ],
   "source": [
    "k = itemset_size + 1 \n",
    "convergence = False \n",
    "\n",
    "while not convergence:\n",
    "    C.update({k: join_set_itemsets(L[k-1],items)})\n",
    "    print(\"Table C{}\".format(k))\n",
    "    print_table(C[k],[count_occurances(it,records) for it in C[k]])\n",
    "    f, supp, new_discarded = get_frequent_items(C[k], records, min_support, Discarded)\n",
    "    Discarded.update({k: new_discarded})\n",
    "    L.update({k: f})\n",
    "    support_count_L.update({k: supp})\n",
    "    if len(L[k]) == 0:\n",
    "        convergence = True\n",
    "    print(\"Table L{}\".format(k))\n",
    "    print_table(L[k],support_count_L[k])\n",
    "    k+=1"
   ]
  },
  {
   "cell_type": "code",
   "execution_count": 227,
   "metadata": {},
   "outputs": [],
   "source": [
    "association_rules=\"\" \n",
    "for i in range(1,len(L)):\n",
    "    for j in range(len(L[i])):\n",
    "        sets_list = create_set_combinations(set(L[i][j]))\n",
    "        sets_list.pop() \n",
    "        for z in sets_list:\n",
    "            S=set(z) \n",
    "            X= set(L[i][j])\n",
    "            X_S = set(X-S) \n",
    "            count_x = count_occurances(X, records)\n",
    "            supp_x = round(((count_x/20)*100),2)\n",
    "            count_x_s = count_occurances(X_S, records)\n",
    "            supp_x_s = count_occurances(X_S, records)\n",
    "            count_s = count_occurances(S,records)\n",
    "            supp_s = round(((count_s/20)*100),2)\n",
    "            \n",
    "            conf =  round(((supp_x/supp_s)*100),2)\n",
    "            if conf > min_confidence and supp_x > min_support:\n",
    "                association_rules+= generate_rules(X,X_S,S,conf,supp_x)"
   ]
  },
  {
   "cell_type": "code",
   "execution_count": 228,
   "metadata": {},
   "outputs": [
    {
     "name": "stdout",
     "output_type": "stream",
     "text": [
      "Freq. Itemset: {'C', 'A'}\n",
      "      Rule: ['C'] -> ['A'] \n",
      "      Confidence: 100.0%       Support: 35.0% \n",
      "\n",
      "----------------------------------------------------------------------------------------------------------\n",
      "Freq. Itemset: {'C', 'A'}\n",
      "      Rule: ['A'] -> ['C'] \n",
      "      Confidence: 63.64%       Support: 35.0% \n",
      "\n",
      "----------------------------------------------------------------------------------------------------------\n",
      "Freq. Itemset: {'E', 'A'}\n",
      "      Rule: ['E'] -> ['A'] \n",
      "      Confidence: 100.0%       Support: 40.0% \n",
      "\n",
      "----------------------------------------------------------------------------------------------------------\n",
      "Freq. Itemset: {'E', 'A'}\n",
      "      Rule: ['A'] -> ['E'] \n",
      "      Confidence: 72.73%       Support: 40.0% \n",
      "\n",
      "----------------------------------------------------------------------------------------------------------\n",
      "\n"
     ]
    }
   ],
   "source": [
    "print(association_rules)"
   ]
  },
  {
   "cell_type": "code",
   "execution_count": null,
   "metadata": {},
   "outputs": [],
   "source": []
  },
  {
   "cell_type": "code",
   "execution_count": null,
   "metadata": {},
   "outputs": [],
   "source": []
  }
 ],
 "metadata": {
  "kernelspec": {
   "display_name": "Python 3",
   "language": "python",
   "name": "python3"
  },
  "language_info": {
   "codemirror_mode": {
    "name": "ipython",
    "version": 3
   },
   "file_extension": ".py",
   "mimetype": "text/x-python",
   "name": "python",
   "nbconvert_exporter": "python",
   "pygments_lexer": "ipython3",
   "version": "3.7.4"
  }
 },
 "nbformat": 4,
 "nbformat_minor": 2
}
